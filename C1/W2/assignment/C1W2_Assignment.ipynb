{
  "cells": [
    {
      "cell_type": "markdown",
      "metadata": {
        "id": "_2s0EJ5Fy4u2"
      },
      "source": [
        "# Week 2: Implementing Callbacks in TensorFlow using the MNIST Dataset\n",
        "\n",
        "In the course you learned how to do classification using Fashion MNIST, a data set containing items of clothing. There's another, similar dataset called MNIST which has items of handwriting -- the digits 0 through 9.\n",
        "\n",
        "Write an MNIST classifier that trains to 99% accuracy and stops once this threshold is achieved. In the lecture you saw how this was done for the loss but here you will be using accuracy instead.\n",
        "\n",
        "Some notes:\n",
        "1. Your network should succeed in less than 9 epochs.\n",
        "2. When it reaches 99% or greater it should print out the string \"Reached 99% accuracy so cancelling training!\" and stop training.\n",
        "3. If you add any additional variables, make sure you use the same names as the ones used in the class. This is important for the function signatures (the parameters and names) of the callbacks."
      ]
    },
    {
      "cell_type": "code",
      "execution_count": 4,
      "metadata": {
        "tags": [
          "graded"
        ],
        "id": "iWoaYNsxOzfs"
      },
      "outputs": [],
      "source": [
        "import os\n",
        "import tensorflow as tf\n",
        "from tensorflow import keras"
      ]
    },
    {
      "cell_type": "markdown",
      "metadata": {
        "id": "AI05-S9FOzfs"
      },
      "source": [
        "## Load and inspect the data\n",
        "\n",
        "Begin by loading the data. A couple of things to notice:\n",
        "\n",
        "- The file `mnist.npz` is already included in the current workspace under the `data` directory. By default the `load_data` from Keras accepts a path relative to `~/.keras/datasets` but in this case it is stored somewhere else, as a result of this, you need to specify the full path.\n",
        "\n",
        "- `load_data` returns the train and test sets in the form of the tuples `(x_train, y_train), (x_test, y_test)` but in this exercise you will be needing only the train set so you can ignore the second tuple."
      ]
    },
    {
      "cell_type": "code",
      "execution_count": 5,
      "metadata": {
        "tags": [
          "graded"
        ],
        "id": "qphDAz3-Ozft",
        "outputId": "eb8f73a8-72a7-4259-b892-d6f5dfc3472b",
        "colab": {
          "base_uri": "https://localhost:8080/"
        }
      },
      "outputs": [
        {
          "output_type": "stream",
          "name": "stdout",
          "text": [
            "A local file was found, but it seems to be incomplete or outdated because the auto file hash does not match the original value of 731c5ac602752760c8e48fbffcf8c3b850d9dc2a2aedcf2cc48468fc17b673d1 so we will re-download the data.\n",
            "Downloading data from https://storage.googleapis.com/tensorflow/tf-keras-datasets/mnist.npz\n",
            "11493376/11490434 [==============================] - 0s 0us/step\n",
            "11501568/11490434 [==============================] - 0s 0us/step\n"
          ]
        }
      ],
      "source": [
        "# Load the data\n",
        "\n",
        "# Get current working directory\n",
        "current_dir = os.getcwd()\n",
        "\n",
        "# Append data/mnist.npz to the previous path to get the full path\n",
        "data_path = os.path.join(current_dir, \"archive.zip\")\n",
        "\n",
        "# Discard test set\n",
        "(x_train, y_train), _ = tf.keras.datasets.mnist.load_data(path=data_path)\n",
        "        \n",
        "# Normalize pixel values\n",
        "x_train = x_train / 255.0"
      ]
    },
    {
      "cell_type": "markdown",
      "metadata": {
        "id": "2mEHErSNOzft"
      },
      "source": [
        "Now take a look at the shape of the training data:"
      ]
    },
    {
      "cell_type": "code",
      "execution_count": 6,
      "metadata": {
        "tags": [
          "graded"
        ],
        "id": "PPeLFJnTOzft",
        "outputId": "b5d69d54-1354-417f-caff-f5bf686d1304",
        "colab": {
          "base_uri": "https://localhost:8080/"
        }
      },
      "outputs": [
        {
          "output_type": "stream",
          "name": "stdout",
          "text": [
            "There are 60000 examples with shape (28, 28)\n"
          ]
        }
      ],
      "source": [
        "data_shape = x_train.shape\n",
        "\n",
        "print(f\"There are {data_shape[0]} examples with shape ({data_shape[1]}, {data_shape[2]})\")"
      ]
    },
    {
      "cell_type": "markdown",
      "metadata": {
        "id": "aurMT0ZBOzft"
      },
      "source": [
        "## Defining your callback\n",
        "\n",
        "Now it is time to create your own custom callback. For this complete the `myCallback` class and the `on_epoch_end` method in the cell below. If you need some guidance on how to proceed, check out this [link](https://www.tensorflow.org/guide/keras/custom_callback)."
      ]
    },
    {
      "cell_type": "code",
      "execution_count": 16,
      "metadata": {
        "tags": [
          "graded"
        ],
        "id": "e5QaXOpcOzfu"
      },
      "outputs": [],
      "source": [
        "# GRADED CLASS: myCallback\n",
        "### START CODE HERE\n",
        "\n",
        "# Remember to inherit from the correct class\n",
        "class myCallback(keras.callbacks.Callback):\n",
        "        # Define the correct function signature for on_epoch_end\n",
        "        def on_epoch_end(self, epoch, logs={}):\n",
        "            if logs.get('accuracy') is not None and logs.get('accuracy') > 0.99:\n",
        "                print(\"\\nReached 99% accuracy so cancelling training!\") \n",
        "                \n",
        "                # Stop training once the above condition is met\n",
        "                self.model.stop_training = True\n",
        "\n",
        "### END CODE HERE\n"
      ]
    },
    {
      "cell_type": "markdown",
      "metadata": {
        "id": "iy-JYjaoOzfu"
      },
      "source": [
        "## Create and train your model\n",
        "\n",
        "Now that you have defined your callback it is time to complete the `train_mnist` function below. \n",
        "\n",
        "**You must set your model to train for 10 epochs and the callback should fire before the 9th epoch for you to pass this assignment.**\n",
        "\n",
        "**Hint:**\n",
        "- Feel free to try the architecture for the neural network that you see fit but in case you need extra help you can check out an architecture that works pretty well at the end of this notebook."
      ]
    },
    {
      "cell_type": "code",
      "execution_count": 17,
      "metadata": {
        "id": "rEHcB3kqyHZ6",
        "tags": [
          "graded"
        ]
      },
      "outputs": [],
      "source": [
        "# GRADED FUNCTION: train_mnist\n",
        "def train_mnist(x_train, y_train):\n",
        "\n",
        "    ### START CODE HERE\n",
        "    \n",
        "    # Instantiate the callback class\n",
        "    callback = myCallback()\n",
        "    \n",
        "    # Define the model\n",
        "    model = tf.keras.models.Sequential([ \n",
        "        tf.keras.layers.Flatten(input_shape=(28, 28)),\n",
        "        tf.keras.layers.Dense(512, activation=tf.nn.relu),\n",
        "        tf.keras.layers.Dense(10, activation=tf.nn.softmax)\n",
        "    ]) \n",
        "\n",
        "    # Compile the model\n",
        "    model.compile(optimizer='adam', \n",
        "                  loss='sparse_categorical_crossentropy', \n",
        "                  metrics=['accuracy']) \n",
        "    \n",
        "    # Fit the model for 10 epochs adding the callbacks\n",
        "    # and save the training history\n",
        "    history = model.fit(x_train, y_train, epochs=10, callbacks=[callback])\n",
        "\n",
        "    ### END CODE HERE\n",
        "\n",
        "    return history"
      ]
    },
    {
      "cell_type": "markdown",
      "metadata": {
        "id": "nBukBJPuOzfv"
      },
      "source": [
        "Call the `train_mnist` passing in the appropiate parameters to get the training history:"
      ]
    },
    {
      "cell_type": "code",
      "execution_count": 18,
      "metadata": {
        "id": "sFgpwbGly4u4",
        "tags": [
          "graded"
        ],
        "outputId": "0fb5dc81-5424-43e2-b99d-57df804fc695",
        "colab": {
          "base_uri": "https://localhost:8080/"
        }
      },
      "outputs": [
        {
          "output_type": "stream",
          "name": "stdout",
          "text": [
            "Epoch 1/10\n",
            "1875/1875 [==============================] - 7s 4ms/step - loss: 0.1987 - accuracy: 0.9420\n",
            "Epoch 2/10\n",
            "1875/1875 [==============================] - 6s 3ms/step - loss: 0.0795 - accuracy: 0.9761\n",
            "Epoch 3/10\n",
            "1875/1875 [==============================] - 6s 3ms/step - loss: 0.0517 - accuracy: 0.9835\n",
            "Epoch 4/10\n",
            "1875/1875 [==============================] - 7s 3ms/step - loss: 0.0375 - accuracy: 0.9881\n",
            "Epoch 5/10\n",
            "1864/1875 [============================>.] - ETA: 0s - loss: 0.0279 - accuracy: 0.9911\n",
            "Reached 99% accuracy so cancelling training!\n",
            "1875/1875 [==============================] - 7s 3ms/step - loss: 0.0279 - accuracy: 0.9911\n"
          ]
        }
      ],
      "source": [
        "hist = train_mnist(x_train, y_train)"
      ]
    },
    {
      "cell_type": "markdown",
      "metadata": {
        "id": "lwWR06IJOzfv"
      },
      "source": [
        "If you see the message `Reached 99% accuracy so cancelling training!` printed out after less than 9 epochs it means your callback worked as expected. "
      ]
    },
    {
      "cell_type": "markdown",
      "metadata": {
        "id": "REcGVcH_Ozfv"
      },
      "source": [
        "## Need more help?\n",
        "\n",
        "Run the following cell to see an architecture that works well for the problem at hand:"
      ]
    },
    {
      "cell_type": "code",
      "execution_count": 19,
      "metadata": {
        "id": "zCC5M7M3Ozfv",
        "outputId": "660bcdfa-99d4-4830-e0d8-a7931f100cd2",
        "colab": {
          "base_uri": "https://localhost:8080/"
        }
      },
      "outputs": [
        {
          "output_type": "stream",
          "name": "stdout",
          "text": [
            "\n",
            "   - A Flatten layer that receives inputs with the same shape as the images\n",
            "   - A Dense layer with 512 units and ReLU activation function\n",
            "   - A Dense layer with 10 units and softmax activation function\n",
            "\n"
          ]
        }
      ],
      "source": [
        "# WE STRONGLY RECOMMEND YOU TO TRY YOUR OWN ARCHITECTURES FIRST\n",
        "# AND ONLY RUN THIS CELL IF YOU WISH TO SEE AN ANSWER\n",
        "\n",
        "import base64\n",
        "\n",
        "encoded_answer = \"CiAgIC0gQSBGbGF0dGVuIGxheWVyIHRoYXQgcmVjZWl2ZXMgaW5wdXRzIHdpdGggdGhlIHNhbWUgc2hhcGUgYXMgdGhlIGltYWdlcwogICAtIEEgRGVuc2UgbGF5ZXIgd2l0aCA1MTIgdW5pdHMgYW5kIFJlTFUgYWN0aXZhdGlvbiBmdW5jdGlvbgogICAtIEEgRGVuc2UgbGF5ZXIgd2l0aCAxMCB1bml0cyBhbmQgc29mdG1heCBhY3RpdmF0aW9uIGZ1bmN0aW9uCg==\"\n",
        "encoded_answer = encoded_answer.encode('ascii')\n",
        "answer = base64.b64decode(encoded_answer)\n",
        "answer = answer.decode('ascii')\n",
        "\n",
        "print(answer)"
      ]
    },
    {
      "cell_type": "markdown",
      "metadata": {
        "id": "RMkLHVpKOzfv"
      },
      "source": [
        "**Congratulations on finishing this week's assignment!**\n",
        "\n",
        "You have successfully implemented a callback that gives you more control over the training loop for your model. Nice job!\n",
        "\n",
        "**Keep it up!**"
      ]
    }
  ],
  "metadata": {
    "jupytext": {
      "main_language": "python"
    },
    "kernelspec": {
      "display_name": "Python 3",
      "language": "python",
      "name": "python3"
    },
    "language_info": {
      "codemirror_mode": {
        "name": "ipython",
        "version": 3
      },
      "file_extension": ".py",
      "mimetype": "text/x-python",
      "name": "python",
      "nbconvert_exporter": "python",
      "pygments_lexer": "ipython3",
      "version": "3.8.8"
    },
    "colab": {
      "provenance": []
    }
  },
  "nbformat": 4,
  "nbformat_minor": 0
}